{
  "nbformat": 4,
  "nbformat_minor": 0,
  "metadata": {
    "colab": {
      "name": "新歓用.ipynb",
      "provenance": [],
      "collapsed_sections": [],
      "include_colab_link": true
    },
    "kernelspec": {
      "name": "python3",
      "display_name": "Python 3"
    },
    "language_info": {
      "name": "python"
    }
  },
  "cells": [
    {
      "cell_type": "markdown",
      "metadata": {
        "id": "view-in-github",
        "colab_type": "text"
      },
      "source": [
        "<a href=\"https://colab.research.google.com/github/gojiteji/shinkan/blob/master/%E6%96%B0%E6%AD%93%E7%94%A8.ipynb\" target=\"_parent\"><img src=\"https://colab.research.google.com/assets/colab-badge.svg\" alt=\"Open In Colab\"/></a>"
      ]
    },
    {
      "cell_type": "markdown",
      "metadata": {
        "id": "lBwi5iY2eGzL"
      },
      "source": [
        "## data smart city sapporoのホームページから札幌市のcovid19感染データをダウンロード\n",
        "\n",
        "`! [コマンド]`は、実行中の端末でUnixコマンドを実行します。何もない場合はPythonが実行されます。\n",
        "\n",
        "`wget`: URLのファイルをダウンロードするコマンド"
      ]
    },
    {
      "cell_type": "code",
      "metadata": {
        "id": "tFp8JZErYaNx"
      },
      "source": [
        "!wget https://ckan.pf-sapporo.jp/dataset/c89f65e7-45a8-4ab2-b94d-494ae192c70f/resource/7dc6b374-ac73-4df4-b899-ea6c8cac3e32/download/covid19_data_sapporo.csv"
      ],
      "execution_count": null,
      "outputs": []
    },
    {
      "cell_type": "code",
      "metadata": {
        "id": "Ly4-ljNydnrO"
      },
      "source": [
        "#ライブラリのインポート\n",
        "import matplotlib.pyplot as plt\n",
        "import numpy as np\n",
        "import pandas as pd"
      ],
      "execution_count": 2,
      "outputs": []
    },
    {
      "cell_type": "markdown",
      "metadata": {
        "id": "ubTu36-xf8-G"
      },
      "source": [
        "## データ読み込み\n",
        "デジタルオシロスコープなどで計測した実験データはcsvファイルで取得される場合が多いです。\n",
        "\n",
        "データ整形には今回はpandasを使います。numpyなどを用いる方法もありますので興味のある方はググってみましょう。"
      ]
    },
    {
      "cell_type": "code",
      "metadata": {
        "id": "DggXwsu1drWC"
      },
      "source": [
        "#データ読み込み\n",
        "data_set = pd.read_csv(\"covid19_data_sapporo.csv\")"
      ],
      "execution_count": 6,
      "outputs": []
    },
    {
      "cell_type": "code",
      "metadata": {
        "id": "4OWs_BcBfXvX"
      },
      "source": [
        "#データの一部を表示\n",
        "data_set"
      ],
      "execution_count": null,
      "outputs": []
    },
    {
      "cell_type": "markdown",
      "metadata": {
        "id": "hyI_qx4vgmSF"
      },
      "source": [
        "## pandasクラスのいじり方\n",
        "そのほかの操作方法はgoogleで`pandas {実行したいこと}`などと検索しましょう"
      ]
    },
    {
      "cell_type": "code",
      "metadata": {
        "id": "TYV5JWxUf7OF"
      },
      "source": [
        "#任意の列を抽出\n",
        "data_set[\"日陽性数\"]"
      ],
      "execution_count": null,
      "outputs": []
    },
    {
      "cell_type": "code",
      "metadata": {
        "id": "CvWXFXkYiH-7"
      },
      "source": [
        "#1行目から4 行目を抽出(Pythonによる配列操作)\n",
        "data_set[1:4]"
      ],
      "execution_count": null,
      "outputs": []
    },
    {
      "cell_type": "code",
      "metadata": {
        "id": "PuWZck9giMpN"
      },
      "source": [
        "#マイナスをつけると後ろからの要素を指定できます。\n",
        "data_set[-10:]"
      ],
      "execution_count": null,
      "outputs": []
    },
    {
      "cell_type": "markdown",
      "metadata": {
        "id": "vW4RjiwGi0y2"
      },
      "source": [
        "## 表を描く\n",
        "実験レポートに表はつきものです(電圧・電流・秒速etc)。やってみましょう！\n",
        "\n",
        "Pythonの文法\n",
        "\n",
        "```Python\n",
        "#コメントアウト\n",
        "\n",
        "x=1.0 #xに1を代入\n",
        "\n",
        "#和差積商\n",
        "z=x+y\n",
        "z=x-y\n",
        "z=x*y\n",
        "z=x/y\n",
        "\n",
        "\n",
        "#配列\n",
        "[1,2,3,4]\n",
        "\n",
        "#numpyを使った配列\n",
        "np.array([1,2,3,4])\n",
        "\n",
        "#範囲を指定したnumpy配列\n",
        "np.array(list(range(100)))\n",
        "```"
      ]
    },
    {
      "cell_type": "code",
      "metadata": {
        "id": "bPo_uwGii7Xm"
      },
      "source": [
        "# グラフのサンプルコード\n",
        "#こういうデータがあったとすると\n",
        "x=np.array(list(range(100)))\n",
        "y_1=np.sin(0.3*x)\n",
        "y_2=np.cos(0.3*x)*np.exp(-0.03*x)\n",
        "\n",
        "#matplotlibを使ってこうやって描ける\n",
        "plt.plot(x,y_1)\n",
        "plt.show()"
      ],
      "execution_count": null,
      "outputs": []
    },
    {
      "cell_type": "markdown",
      "metadata": {
        "id": "MeLpZV1ikqEe"
      },
      "source": [
        "## グラフに必要な情報を追記\n",
        "上の情報だけのレポートだと減点もしくは再提出をする羽目になります。必要な情報を追記しましょう。"
      ]
    },
    {
      "cell_type": "code",
      "metadata": {
        "id": "Yu36ECzZksIe"
      },
      "source": [
        "plt.title(\"waves\")\n",
        "plt.xlabel('x')\n",
        "plt.ylabel('y')\n",
        "plt.plot(x,y_1,label=\"sin(0.3x)\")\n",
        "plt.plot(x,y_2,label=\"cos(0.3x)exp(-0.03x)\")\n",
        "\n",
        "plt.legend(bbox_to_anchor=(1, 1), loc='upper right', borderaxespad=0, fontsize=18)\n",
        "\"\"\"\n",
        "他にもmatplolibでどんなグラフが書けるか調べてみましょう(markerや色、グリッドなど)\n",
        "\"\"\"\n",
        "plt.show()"
      ],
      "execution_count": null,
      "outputs": []
    },
    {
      "cell_type": "markdown",
      "metadata": {
        "id": "1V7sWU0Zoi6o"
      },
      "source": [
        "## 札幌市のcovid19のデータをグラフ化する\n",
        "上記までのデータからcovid19のデータのグラフを作成してみましょう。\n",
        "\n",
        "### 例\n",
        "\n",
        "- 陽性累計数-1例目の発見からの日数グラフ\n",
        "- 死亡累計-1例目の発見からの日数グラフ\n",
        "- 複数データを一枚に表示\n",
        "\n",
        "### 応用\n",
        "- 対数グラフで累計表示(`plt.yscale(\"log\")`を使わずに)\n",
        "- 日感染者数から感染累計のグラフを作成\n",
        "\n",
        "### Pythonコマンド\n",
        "配列の内容にから繰り返し処理を加える\n",
        "```\n",
        "Sum=0\n",
        "arr=[1,2,3]\n",
        "for x in arr:\n",
        "    Sum=x\n",
        "print(Sum)\n",
        "```\n",
        "\n",
        "指定回数繰り返す\n",
        "```\n",
        "counter=0\n",
        "for x in range(10000):\n",
        "    counter=counter+1\n",
        "print(counter)\n",
        "```\n"
      ]
    }
  ]
}