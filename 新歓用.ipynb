{
  "nbformat": 4,
  "nbformat_minor": 0,
  "metadata": {
    "colab": {
      "name": "新歓用.ipynb",
      "provenance": [],
      "collapsed_sections": [],
      "authorship_tag": "ABX9TyOZmHW/X6hCmnK9bnY2uIad",
      "include_colab_link": true
    },
    "kernelspec": {
      "name": "python3",
      "display_name": "Python 3"
    },
    "language_info": {
      "name": "python"
    }
  },
  "cells": [
    {
      "cell_type": "markdown",
      "metadata": {
        "id": "view-in-github",
        "colab_type": "text"
      },
      "source": [
        "<a href=\"https://colab.research.google.com/github/gojiteji/shinkan/blob/master/%E6%96%B0%E6%AD%93%E7%94%A8.ipynb\" target=\"_parent\"><img src=\"https://colab.research.google.com/assets/colab-badge.svg\" alt=\"Open In Colab\"/></a>"
      ]
    },
    {
      "cell_type": "markdown",
      "metadata": {
        "id": "lBwi5iY2eGzL"
      },
      "source": [
        "## 札幌市のホームページから札幌市のcovid19感染データをダウンロード\n",
        "\n",
        "`! [コマンド]`は、実行中の端末でUnixコマンドを実行します。何もない場合はPythonが実行されます。\n",
        "\n",
        "`wget`: URLのファイルをダウンロードするコマンド"
      ]
    },
    {
      "cell_type": "code",
      "metadata": {
        "colab": {
          "base_uri": "https://localhost:8080/"
        },
        "id": "tFp8JZErYaNx",
        "outputId": "11818882-d5eb-429e-dd85-bf140b1c1bf9"
      },
      "source": [
        "!wget https://ckan.pf-sapporo.jp/dataset/c89f65e7-45a8-4ab2-b94d-494ae192c70f/resource/7dc6b374-ac73-4df4-b899-ea6c8cac3e32/download/covid19datasapporo.csv"
      ],
      "execution_count": null,
      "outputs": [
        {
          "output_type": "stream",
          "text": [
            "--2021-03-22 15:03:31--  https://ckan.pf-sapporo.jp/dataset/c89f65e7-45a8-4ab2-b94d-494ae192c70f/resource/7dc6b374-ac73-4df4-b899-ea6c8cac3e32/download/covid19datasapporo.csv\n",
            "Resolving ckan.pf-sapporo.jp (ckan.pf-sapporo.jp)... 153.153.156.53, 153.153.156.52\n",
            "Connecting to ckan.pf-sapporo.jp (ckan.pf-sapporo.jp)|153.153.156.53|:443... connected.\n",
            "HTTP request sent, awaiting response... 200 OK\n",
            "Length: 20899 (20K) [text/csv]\n",
            "Saving to: ‘covid19datasapporo.csv’\n",
            "\n",
            "covid19datasapporo. 100%[===================>]  20.41K  --.-KB/s    in 0s      \n",
            "\n",
            "2021-03-22 15:03:32 (208 MB/s) - ‘covid19datasapporo.csv’ saved [20899/20899]\n",
            "\n"
          ],
          "name": "stdout"
        }
      ]
    },
    {
      "cell_type": "code",
      "metadata": {
        "id": "Ly4-ljNydnrO"
      },
      "source": [
        "#ライブラリのインポート\n",
        "import matplotlib.pyplot as plt\n",
        "import numpy as np\n",
        "import pandas as pd"
      ],
      "execution_count": null,
      "outputs": []
    },
    {
      "cell_type": "markdown",
      "metadata": {
        "id": "ubTu36-xf8-G"
      },
      "source": [
        "## データ読み込み\n",
        "デジタルオシロスコープなどで計測した実験データはcsvファイルで取得される場合が多いです。\n",
        "\n",
        "データ整形には今回はpandasを使います。numpyなどを用いる方法もありますので興味のある方はググってみましょう。"
      ]
    },
    {
      "cell_type": "code",
      "metadata": {
        "id": "DggXwsu1drWC"
      },
      "source": [
        "#データ読み込み\n",
        "data_set = pd.read_csv(\"covid19datasapporo.csv\")"
      ],
      "execution_count": null,
      "outputs": []
    },
    {
      "cell_type": "code",
      "metadata": {
        "colab": {
          "base_uri": "https://localhost:8080/",
          "height": 419
        },
        "id": "4OWs_BcBfXvX",
        "outputId": "81517ed1-3355-4610-8a9c-86386d34eae7"
      },
      "source": [
        "#データの一部を表示\n",
        "data_set"
      ],
      "execution_count": null,
      "outputs": [
        {
          "output_type": "execute_result",
          "data": {
            "text/html": [
              "<div>\n",
              "<style scoped>\n",
              "    .dataframe tbody tr th:only-of-type {\n",
              "        vertical-align: middle;\n",
              "    }\n",
              "\n",
              "    .dataframe tbody tr th {\n",
              "        vertical-align: top;\n",
              "    }\n",
              "\n",
              "    .dataframe thead th {\n",
              "        text-align: right;\n",
              "    }\n",
              "</style>\n",
              "<table border=\"1\" class=\"dataframe\">\n",
              "  <thead>\n",
              "    <tr style=\"text-align: right;\">\n",
              "      <th></th>\n",
              "      <th>日付</th>\n",
              "      <th>日陽性数</th>\n",
              "      <th>陽性累計</th>\n",
              "      <th>日患者数</th>\n",
              "      <th>患者累計</th>\n",
              "      <th>日死亡数</th>\n",
              "      <th>死亡累計</th>\n",
              "      <th>日治療終了数</th>\n",
              "      <th>治療終了累計</th>\n",
              "    </tr>\n",
              "  </thead>\n",
              "  <tbody>\n",
              "    <tr>\n",
              "      <th>0</th>\n",
              "      <td>2020-02-14T08:00:00.000Z</td>\n",
              "      <td>1</td>\n",
              "      <td>1</td>\n",
              "      <td>1</td>\n",
              "      <td>1</td>\n",
              "      <td>0</td>\n",
              "      <td>0</td>\n",
              "      <td>0</td>\n",
              "      <td>0</td>\n",
              "    </tr>\n",
              "    <tr>\n",
              "      <th>1</th>\n",
              "      <td>2020-02-15T08:00:00.000Z</td>\n",
              "      <td>0</td>\n",
              "      <td>1</td>\n",
              "      <td>0</td>\n",
              "      <td>1</td>\n",
              "      <td>0</td>\n",
              "      <td>0</td>\n",
              "      <td>0</td>\n",
              "      <td>0</td>\n",
              "    </tr>\n",
              "    <tr>\n",
              "      <th>2</th>\n",
              "      <td>2020-02-16T08:00:00.000Z</td>\n",
              "      <td>0</td>\n",
              "      <td>1</td>\n",
              "      <td>0</td>\n",
              "      <td>1</td>\n",
              "      <td>0</td>\n",
              "      <td>0</td>\n",
              "      <td>0</td>\n",
              "      <td>0</td>\n",
              "    </tr>\n",
              "    <tr>\n",
              "      <th>3</th>\n",
              "      <td>2020-02-17T08:00:00.000Z</td>\n",
              "      <td>0</td>\n",
              "      <td>1</td>\n",
              "      <td>0</td>\n",
              "      <td>1</td>\n",
              "      <td>0</td>\n",
              "      <td>0</td>\n",
              "      <td>0</td>\n",
              "      <td>0</td>\n",
              "    </tr>\n",
              "    <tr>\n",
              "      <th>4</th>\n",
              "      <td>2020-02-18T08:00:00.000Z</td>\n",
              "      <td>1</td>\n",
              "      <td>2</td>\n",
              "      <td>1</td>\n",
              "      <td>2</td>\n",
              "      <td>0</td>\n",
              "      <td>0</td>\n",
              "      <td>0</td>\n",
              "      <td>0</td>\n",
              "    </tr>\n",
              "    <tr>\n",
              "      <th>...</th>\n",
              "      <td>...</td>\n",
              "      <td>...</td>\n",
              "      <td>...</td>\n",
              "      <td>...</td>\n",
              "      <td>...</td>\n",
              "      <td>...</td>\n",
              "      <td>...</td>\n",
              "      <td>...</td>\n",
              "      <td>...</td>\n",
              "    </tr>\n",
              "    <tr>\n",
              "      <th>397</th>\n",
              "      <td>2021-03-17T08:00:00.000Z</td>\n",
              "      <td>38</td>\n",
              "      <td>11838</td>\n",
              "      <td>-22</td>\n",
              "      <td>250</td>\n",
              "      <td>1</td>\n",
              "      <td>316</td>\n",
              "      <td>59</td>\n",
              "      <td>11272</td>\n",
              "    </tr>\n",
              "    <tr>\n",
              "      <th>398</th>\n",
              "      <td>2021-03-18T08:00:00.000Z</td>\n",
              "      <td>65</td>\n",
              "      <td>11903</td>\n",
              "      <td>56</td>\n",
              "      <td>306</td>\n",
              "      <td>0</td>\n",
              "      <td>316</td>\n",
              "      <td>9</td>\n",
              "      <td>11281</td>\n",
              "    </tr>\n",
              "    <tr>\n",
              "      <th>399</th>\n",
              "      <td>2021-03-19T08:00:00.000Z</td>\n",
              "      <td>47</td>\n",
              "      <td>11950</td>\n",
              "      <td>30</td>\n",
              "      <td>336</td>\n",
              "      <td>1</td>\n",
              "      <td>317</td>\n",
              "      <td>16</td>\n",
              "      <td>11297</td>\n",
              "    </tr>\n",
              "    <tr>\n",
              "      <th>400</th>\n",
              "      <td>2021-03-20T08:00:00.000Z</td>\n",
              "      <td>29</td>\n",
              "      <td>11979</td>\n",
              "      <td>16</td>\n",
              "      <td>352</td>\n",
              "      <td>2</td>\n",
              "      <td>319</td>\n",
              "      <td>11</td>\n",
              "      <td>11308</td>\n",
              "    </tr>\n",
              "    <tr>\n",
              "      <th>401</th>\n",
              "      <td>2021-03-21T08:00:00.000Z</td>\n",
              "      <td>39</td>\n",
              "      <td>12018</td>\n",
              "      <td>26</td>\n",
              "      <td>378</td>\n",
              "      <td>1</td>\n",
              "      <td>320</td>\n",
              "      <td>12</td>\n",
              "      <td>11320</td>\n",
              "    </tr>\n",
              "  </tbody>\n",
              "</table>\n",
              "<p>402 rows × 9 columns</p>\n",
              "</div>"
            ],
            "text/plain": [
              "                           日付  日陽性数   陽性累計  日患者数  ...  日死亡数  死亡累計  日治療終了数  治療終了累計\n",
              "0    2020-02-14T08:00:00.000Z     1      1     1  ...     0     0       0       0\n",
              "1    2020-02-15T08:00:00.000Z     0      1     0  ...     0     0       0       0\n",
              "2    2020-02-16T08:00:00.000Z     0      1     0  ...     0     0       0       0\n",
              "3    2020-02-17T08:00:00.000Z     0      1     0  ...     0     0       0       0\n",
              "4    2020-02-18T08:00:00.000Z     1      2     1  ...     0     0       0       0\n",
              "..                        ...   ...    ...   ...  ...   ...   ...     ...     ...\n",
              "397  2021-03-17T08:00:00.000Z    38  11838   -22  ...     1   316      59   11272\n",
              "398  2021-03-18T08:00:00.000Z    65  11903    56  ...     0   316       9   11281\n",
              "399  2021-03-19T08:00:00.000Z    47  11950    30  ...     1   317      16   11297\n",
              "400  2021-03-20T08:00:00.000Z    29  11979    16  ...     2   319      11   11308\n",
              "401  2021-03-21T08:00:00.000Z    39  12018    26  ...     1   320      12   11320\n",
              "\n",
              "[402 rows x 9 columns]"
            ]
          },
          "metadata": {
            "tags": []
          },
          "execution_count": 17
        }
      ]
    },
    {
      "cell_type": "markdown",
      "metadata": {
        "id": "hyI_qx4vgmSF"
      },
      "source": [
        "## pandasクラスのいじり方\n",
        "そのほかの操作方法はgoogleで`pandas {実行したいこと}`などと検索しましょう"
      ]
    },
    {
      "cell_type": "code",
      "metadata": {
        "colab": {
          "base_uri": "https://localhost:8080/"
        },
        "id": "TYV5JWxUf7OF",
        "outputId": "8e1a0171-0130-463c-83fb-71e0cd37f05d"
      },
      "source": [
        "#任意の列を抽出\n",
        "data_set[\"日陽性数\"]"
      ],
      "execution_count": null,
      "outputs": [
        {
          "output_type": "execute_result",
          "data": {
            "text/plain": [
              "0       1\n",
              "1       0\n",
              "2       0\n",
              "3       0\n",
              "4       1\n",
              "       ..\n",
              "397    38\n",
              "398    65\n",
              "399    47\n",
              "400    29\n",
              "401    39\n",
              "Name: 日陽性数, Length: 402, dtype: int64"
            ]
          },
          "metadata": {
            "tags": []
          },
          "execution_count": 24
        }
      ]
    },
    {
      "cell_type": "code",
      "metadata": {
        "colab": {
          "base_uri": "https://localhost:8080/",
          "height": 142
        },
        "id": "CvWXFXkYiH-7",
        "outputId": "9f284ed9-8ec1-47a2-913d-c377d373f2e0"
      },
      "source": [
        "#1行目から4 行目を抽出(Pythonによる配列操作)\n",
        "data_set[1:4]"
      ],
      "execution_count": null,
      "outputs": [
        {
          "output_type": "execute_result",
          "data": {
            "text/html": [
              "<div>\n",
              "<style scoped>\n",
              "    .dataframe tbody tr th:only-of-type {\n",
              "        vertical-align: middle;\n",
              "    }\n",
              "\n",
              "    .dataframe tbody tr th {\n",
              "        vertical-align: top;\n",
              "    }\n",
              "\n",
              "    .dataframe thead th {\n",
              "        text-align: right;\n",
              "    }\n",
              "</style>\n",
              "<table border=\"1\" class=\"dataframe\">\n",
              "  <thead>\n",
              "    <tr style=\"text-align: right;\">\n",
              "      <th></th>\n",
              "      <th>日付</th>\n",
              "      <th>日陽性数</th>\n",
              "      <th>陽性累計</th>\n",
              "      <th>日患者数</th>\n",
              "      <th>患者累計</th>\n",
              "      <th>日死亡数</th>\n",
              "      <th>死亡累計</th>\n",
              "      <th>日治療終了数</th>\n",
              "      <th>治療終了累計</th>\n",
              "    </tr>\n",
              "  </thead>\n",
              "  <tbody>\n",
              "    <tr>\n",
              "      <th>1</th>\n",
              "      <td>2020-02-15T08:00:00.000Z</td>\n",
              "      <td>0</td>\n",
              "      <td>1</td>\n",
              "      <td>0</td>\n",
              "      <td>1</td>\n",
              "      <td>0</td>\n",
              "      <td>0</td>\n",
              "      <td>0</td>\n",
              "      <td>0</td>\n",
              "    </tr>\n",
              "    <tr>\n",
              "      <th>2</th>\n",
              "      <td>2020-02-16T08:00:00.000Z</td>\n",
              "      <td>0</td>\n",
              "      <td>1</td>\n",
              "      <td>0</td>\n",
              "      <td>1</td>\n",
              "      <td>0</td>\n",
              "      <td>0</td>\n",
              "      <td>0</td>\n",
              "      <td>0</td>\n",
              "    </tr>\n",
              "    <tr>\n",
              "      <th>3</th>\n",
              "      <td>2020-02-17T08:00:00.000Z</td>\n",
              "      <td>0</td>\n",
              "      <td>1</td>\n",
              "      <td>0</td>\n",
              "      <td>1</td>\n",
              "      <td>0</td>\n",
              "      <td>0</td>\n",
              "      <td>0</td>\n",
              "      <td>0</td>\n",
              "    </tr>\n",
              "  </tbody>\n",
              "</table>\n",
              "</div>"
            ],
            "text/plain": [
              "                         日付  日陽性数  陽性累計  日患者数  患者累計  日死亡数  死亡累計  日治療終了数  治療終了累計\n",
              "1  2020-02-15T08:00:00.000Z     0     1     0     1     0     0       0       0\n",
              "2  2020-02-16T08:00:00.000Z     0     1     0     1     0     0       0       0\n",
              "3  2020-02-17T08:00:00.000Z     0     1     0     1     0     0       0       0"
            ]
          },
          "metadata": {
            "tags": []
          },
          "execution_count": 25
        }
      ]
    },
    {
      "cell_type": "code",
      "metadata": {
        "colab": {
          "base_uri": "https://localhost:8080/",
          "height": 359
        },
        "id": "PuWZck9giMpN",
        "outputId": "e2c77fd8-5c2d-4607-f652-fb024d2d9961"
      },
      "source": [
        "#マイナスをつけると後ろからの要素を指定できます。\n",
        "data_set[-10:]"
      ],
      "execution_count": null,
      "outputs": [
        {
          "output_type": "execute_result",
          "data": {
            "text/html": [
              "<div>\n",
              "<style scoped>\n",
              "    .dataframe tbody tr th:only-of-type {\n",
              "        vertical-align: middle;\n",
              "    }\n",
              "\n",
              "    .dataframe tbody tr th {\n",
              "        vertical-align: top;\n",
              "    }\n",
              "\n",
              "    .dataframe thead th {\n",
              "        text-align: right;\n",
              "    }\n",
              "</style>\n",
              "<table border=\"1\" class=\"dataframe\">\n",
              "  <thead>\n",
              "    <tr style=\"text-align: right;\">\n",
              "      <th></th>\n",
              "      <th>日付</th>\n",
              "      <th>日陽性数</th>\n",
              "      <th>陽性累計</th>\n",
              "      <th>日患者数</th>\n",
              "      <th>患者累計</th>\n",
              "      <th>日死亡数</th>\n",
              "      <th>死亡累計</th>\n",
              "      <th>日治療終了数</th>\n",
              "      <th>治療終了累計</th>\n",
              "    </tr>\n",
              "  </thead>\n",
              "  <tbody>\n",
              "    <tr>\n",
              "      <th>392</th>\n",
              "      <td>2021-03-12T08:00:00.000Z</td>\n",
              "      <td>16</td>\n",
              "      <td>11687</td>\n",
              "      <td>-11</td>\n",
              "      <td>288</td>\n",
              "      <td>0</td>\n",
              "      <td>313</td>\n",
              "      <td>26</td>\n",
              "      <td>11085</td>\n",
              "    </tr>\n",
              "    <tr>\n",
              "      <th>393</th>\n",
              "      <td>2021-03-13T08:00:00.000Z</td>\n",
              "      <td>25</td>\n",
              "      <td>11712</td>\n",
              "      <td>25</td>\n",
              "      <td>313</td>\n",
              "      <td>0</td>\n",
              "      <td>313</td>\n",
              "      <td>0</td>\n",
              "      <td>11085</td>\n",
              "    </tr>\n",
              "    <tr>\n",
              "      <th>394</th>\n",
              "      <td>2021-03-14T08:00:00.000Z</td>\n",
              "      <td>28</td>\n",
              "      <td>11740</td>\n",
              "      <td>-19</td>\n",
              "      <td>294</td>\n",
              "      <td>0</td>\n",
              "      <td>313</td>\n",
              "      <td>47</td>\n",
              "      <td>11132</td>\n",
              "    </tr>\n",
              "    <tr>\n",
              "      <th>395</th>\n",
              "      <td>2021-03-15T08:00:00.000Z</td>\n",
              "      <td>32</td>\n",
              "      <td>11772</td>\n",
              "      <td>10</td>\n",
              "      <td>304</td>\n",
              "      <td>1</td>\n",
              "      <td>314</td>\n",
              "      <td>22</td>\n",
              "      <td>11154</td>\n",
              "    </tr>\n",
              "    <tr>\n",
              "      <th>396</th>\n",
              "      <td>2021-03-16T08:00:00.000Z</td>\n",
              "      <td>28</td>\n",
              "      <td>11800</td>\n",
              "      <td>-32</td>\n",
              "      <td>272</td>\n",
              "      <td>1</td>\n",
              "      <td>315</td>\n",
              "      <td>59</td>\n",
              "      <td>11213</td>\n",
              "    </tr>\n",
              "    <tr>\n",
              "      <th>397</th>\n",
              "      <td>2021-03-17T08:00:00.000Z</td>\n",
              "      <td>38</td>\n",
              "      <td>11838</td>\n",
              "      <td>-22</td>\n",
              "      <td>250</td>\n",
              "      <td>1</td>\n",
              "      <td>316</td>\n",
              "      <td>59</td>\n",
              "      <td>11272</td>\n",
              "    </tr>\n",
              "    <tr>\n",
              "      <th>398</th>\n",
              "      <td>2021-03-18T08:00:00.000Z</td>\n",
              "      <td>65</td>\n",
              "      <td>11903</td>\n",
              "      <td>56</td>\n",
              "      <td>306</td>\n",
              "      <td>0</td>\n",
              "      <td>316</td>\n",
              "      <td>9</td>\n",
              "      <td>11281</td>\n",
              "    </tr>\n",
              "    <tr>\n",
              "      <th>399</th>\n",
              "      <td>2021-03-19T08:00:00.000Z</td>\n",
              "      <td>47</td>\n",
              "      <td>11950</td>\n",
              "      <td>30</td>\n",
              "      <td>336</td>\n",
              "      <td>1</td>\n",
              "      <td>317</td>\n",
              "      <td>16</td>\n",
              "      <td>11297</td>\n",
              "    </tr>\n",
              "    <tr>\n",
              "      <th>400</th>\n",
              "      <td>2021-03-20T08:00:00.000Z</td>\n",
              "      <td>29</td>\n",
              "      <td>11979</td>\n",
              "      <td>16</td>\n",
              "      <td>352</td>\n",
              "      <td>2</td>\n",
              "      <td>319</td>\n",
              "      <td>11</td>\n",
              "      <td>11308</td>\n",
              "    </tr>\n",
              "    <tr>\n",
              "      <th>401</th>\n",
              "      <td>2021-03-21T08:00:00.000Z</td>\n",
              "      <td>39</td>\n",
              "      <td>12018</td>\n",
              "      <td>26</td>\n",
              "      <td>378</td>\n",
              "      <td>1</td>\n",
              "      <td>320</td>\n",
              "      <td>12</td>\n",
              "      <td>11320</td>\n",
              "    </tr>\n",
              "  </tbody>\n",
              "</table>\n",
              "</div>"
            ],
            "text/plain": [
              "                           日付  日陽性数   陽性累計  日患者数  ...  日死亡数  死亡累計  日治療終了数  治療終了累計\n",
              "392  2021-03-12T08:00:00.000Z    16  11687   -11  ...     0   313      26   11085\n",
              "393  2021-03-13T08:00:00.000Z    25  11712    25  ...     0   313       0   11085\n",
              "394  2021-03-14T08:00:00.000Z    28  11740   -19  ...     0   313      47   11132\n",
              "395  2021-03-15T08:00:00.000Z    32  11772    10  ...     1   314      22   11154\n",
              "396  2021-03-16T08:00:00.000Z    28  11800   -32  ...     1   315      59   11213\n",
              "397  2021-03-17T08:00:00.000Z    38  11838   -22  ...     1   316      59   11272\n",
              "398  2021-03-18T08:00:00.000Z    65  11903    56  ...     0   316       9   11281\n",
              "399  2021-03-19T08:00:00.000Z    47  11950    30  ...     1   317      16   11297\n",
              "400  2021-03-20T08:00:00.000Z    29  11979    16  ...     2   319      11   11308\n",
              "401  2021-03-21T08:00:00.000Z    39  12018    26  ...     1   320      12   11320\n",
              "\n",
              "[10 rows x 9 columns]"
            ]
          },
          "metadata": {
            "tags": []
          },
          "execution_count": 27
        }
      ]
    },
    {
      "cell_type": "markdown",
      "metadata": {
        "id": "vW4RjiwGi0y2"
      },
      "source": [
        "## 表を描く\n",
        "実験レポートに表はつきものです(電圧・電流・秒速etc)。やってみましょう！\n",
        "\n",
        "Pythonの文法\n",
        "\n",
        "```Python\n",
        "#コメントアウト\n",
        "\n",
        "x=1.0 #xに1を代入\n",
        "\n",
        "#和差積商\n",
        "z=x+y\n",
        "z=x-y\n",
        "z=x*y\n",
        "z=x/y\n",
        "\n",
        "\n",
        "#配列\n",
        "[1,2,3,4]\n",
        "\n",
        "#numpyを使った配列\n",
        "np.array([1,2,3,4])\n",
        "\n",
        "#範囲を指定したnumpy配列\n",
        "np.array(list(range(100)))\n",
        "```"
      ]
    },
    {
      "cell_type": "code",
      "metadata": {
        "colab": {
          "base_uri": "https://localhost:8080/",
          "height": 265
        },
        "id": "bPo_uwGii7Xm",
        "outputId": "aba80288-96cd-4fbf-b6ef-8a67245d4f2d"
      },
      "source": [
        "# グラフのサンプルコード\n",
        "#こういうデータがあったとすると\n",
        "x=np.array(list(range(100)))\n",
        "y_1=np.sin(0.3*x)\n",
        "y_2=np.cos(0.3*x)*np.exp(-0.03*x)\n",
        "\n",
        "#matplotlibを使ってこうやって描ける\n",
        "plt.plot(x,y_1)\n",
        "plt.show()"
      ],
      "execution_count": null,
      "outputs": [
        {
          "output_type": "display_data",
          "data": {
            "image/png": "[encoded data removed]",
            "text/plain": [
              "<Figure size 432x288 with 1 Axes>"
            ]
          },
          "metadata": {
            "tags": [],
            "needs_background": "light"
          }
        }
      ]
    },
    {
      "cell_type": "markdown",
      "metadata": {
        "id": "MeLpZV1ikqEe"
      },
      "source": [
        "## グラフに必要な情報を追記\n",
        "上の情報だけのレポートだと減点もしくは再提出をする羽目になります。必要な情報を追記しましょう。"
      ]
    },
    {
      "cell_type": "code",
      "metadata": {
        "colab": {
          "base_uri": "https://localhost:8080/",
          "height": 295
        },
        "id": "Yu36ECzZksIe",
        "outputId": "595f89d5-5f9e-4a77-a38b-fff93c5f201a"
      },
      "source": [
        "plt.title(\"waves\")\n",
        "plt.xlabel('x')\n",
        "plt.ylabel('y')\n",
        "plt.plot(x,y_1,label=\"sin(0.3x)\")\n",
        "plt.plot(x,y_2,label=\"cos(0.3x)exp(-0.03x)\")\n",
        "\n",
        "plt.legend(bbox_to_anchor=(1, 1), loc='upper right', borderaxespad=0, fontsize=18)\n",
        "\"\"\"\n",
        "他にもmatplolibでどんなグラフが書けるか調べてみましょう(markerや色、グリッドなど)\n",
        "\"\"\"\n",
        "plt.show()"
      ],
      "execution_count": null,
      "outputs": [
        {
          "output_type": "display_data",
          "data": {
            "image/png": "[encoded data removed]",
            "text/plain": [
              "<Figure size 432x288 with 1 Axes>"
            ]
          },
          "metadata": {
            "tags": [],
            "needs_background": "light"
          }
        }
      ]
    },
    {
      "cell_type": "markdown",
      "metadata": {
        "id": "1V7sWU0Zoi6o"
      },
      "source": [
        "## 札幌市のcovid19のデータをグラフ化する\n",
        "上記までのデータからcovid19のデータのグラフを作成してみましょう。\n",
        "\n",
        "### 例\n",
        "\n",
        "- 陽性累計数-1例目の発見からの日数グラフ\n",
        "- 死亡累計-1例目の発見からの日数グラフ\n",
        "- 複数データを一枚に表示\n",
        "\n",
        "### 応用\n",
        "- 対数グラフで累計表示(`plt.yscale(\"log\")`を使わずに)\n",
        "- 日感染者数から感染累計のグラフを作成\n",
        "\n",
        "### Pythonコマンド\n",
        "配列の内容にから繰り返し処理を加える\n",
        "```\n",
        "Sum=0\n",
        "arr=[1,2,3]\n",
        "for x in arr:\n",
        "    Sum=x\n",
        "print(Sum)\n",
        "```\n",
        "\n",
        "指定回数繰り返す\n",
        "```\n",
        "counter=0\n",
        "for x in range(10000):\n",
        "    counter=counter+1\n",
        "print(counter)\n",
        "```\n"
      ]
    }
  ]
}